{
 "cells": [
  {
   "cell_type": "code",
   "execution_count": 41,
   "id": "6406a2f5",
   "metadata": {},
   "outputs": [],
   "source": [
    "import torch\n",
    "import torch.nn as nn\n",
    "import torch.optim as optim\n",
    "from torch.utils.data import Dataset, DataLoader\n",
    "\n",
    "import random"
   ]
  },
  {
   "cell_type": "code",
   "execution_count": 40,
   "id": "ff35f28c",
   "metadata": {},
   "outputs": [],
   "source": [
    "# Function to generate a sequence with varying probabilities for 1s\n",
    "def generate_sequence(length, p1, p2, special_regions):\n",
    "    sequence = torch.zeros(length)\n",
    "    global_prob = torch.rand(length)\n",
    "    sequence[global_prob < p1] = 1\n",
    "\n",
    "    for region in special_regions:\n",
    "        a, b = region\n",
    "        if 0 <= a < b <= length:\n",
    "            special_prob = torch.rand(b - a)\n",
    "            sequence[a:b][special_prob < p2] = 1\n",
    "\n",
    "    return sequence\n",
    "\n",
    "\n",
    "# Custom Dataset class\n",
    "class SequenceDataset(Dataset):\n",
    "    def __init__(self, seq_len, p1, p2, special_regions, num_samples):\n",
    "        \"\"\"\n",
    "        Initializes the dataset.\n",
    "\n",
    "        Args:\n",
    "        - seq_len: Length of each sequence.\n",
    "        - p1: Global probability for 1s.\n",
    "        - p2: Probability for 1s in special regions.\n",
    "        - special_regions: List of regions with higher probability.\n",
    "        - num_samples: Number of sequences in the dataset.\n",
    "        \"\"\"\n",
    "        self.seq_len = seq_len\n",
    "        self.p1 = p1\n",
    "        self.p2 = p2\n",
    "        self.special_regions = special_regions\n",
    "        self.num_samples = num_samples\n",
    "\n",
    "    def __len__(self):\n",
    "        # Total number of samples in the dataset\n",
    "        return self.num_samples\n",
    "\n",
    "    def __getitem__(self, idx):\n",
    "        # Generates a sequence\n",
    "        if random.random() < 0.5:\n",
    "            sequence = generate_sequence(self.seq_len, self.p1, self.p1, self.special_regions)\n",
    "            return sequence, 0\n",
    "        else:\n",
    "            sequence = generate_sequence(self.seq_len, self.p1, self.p2, self.special_regions)\n",
    "            return sequence, 1"
   ]
  },
  {
   "cell_type": "code",
   "execution_count": 42,
   "id": "1d7acdc4",
   "metadata": {},
   "outputs": [],
   "source": [
    "# Define the Transformer model\n",
    "class TransformerClassifier(nn.Module):\n",
    "    def __init__(self, input_dim, num_classes, nhead, num_encoder_layers, dim_feedforward, dropout=0.1):\n",
    "        super(TransformerClassifier, self).__init__()\n",
    "        \n",
    "        # Input dimension must match the input feature size\n",
    "        self.embedding = nn.Embedding(input_dim, input_dim)  # For categorical data, use nn.Linear for continuous\n",
    "        self.transformer = nn.TransformerEncoder(\n",
    "            nn.TransformerEncoderLayer(d_model=input_dim, nhead=nhead, dim_feedforward=dim_feedforward, dropout=dropout),\n",
    "            num_layers=num_encoder_layers\n",
    "        )\n",
    "        self.fc = nn.Linear(input_dim, num_classes)  # Output layer for classification\n",
    "\n",
    "    def forward(self, x):\n",
    "        # x shape: (seq_length, batch_size) for nn.Transformer\n",
    "        x = self.embedding(x)  # Get embeddings for inputs\n",
    "        x = self.transformer(x)  # Pass through the transformer\n",
    "        x = x.mean(dim=0)  # Average pooling over sequence length\n",
    "        x = self.fc(x)  # Classify\n",
    "        return x"
   ]
  },
  {
   "cell_type": "code",
   "execution_count": 44,
   "id": "5ceec748",
   "metadata": {},
   "outputs": [],
   "source": [
    "# Create dataset and dataloader\n",
    "seq_len = 100  # Length of each sequence\n",
    "p1 = 0.1  # Global probability for 1s\n",
    "p2 = 0.5  # Probability for 1s in special regions\n",
    "special_regions = [(10, 20), (50, 70)]  # Regions with higher probability\n",
    "num_samples = 100  # Number of sequences to generate\n",
    "\n",
    "# Create the dataset and the dataloader\n",
    "dataset = SequenceDataset(seq_len, p1, p2, special_regions, num_samples)\n",
    "dataloader = DataLoader(dataset, batch_size=20, shuffle=True)\n",
    "\n",
    "test_dataset = SequenceDataset(seq_len, p1, p2, special_regions, 10)\n",
    "test_dataloader = DataLoader(dataset, batch_size=20, shuffle=True)\n",
    "\n",
    "model = TransformerClassifier(input_dim=2,\n",
    "                              num_classes=2,\n",
    "                              nhead=2,\n",
    "                              num_encoder_layers=2,\n",
    "                              dim_feedforward=2,\n",
    "                              dropout=0.1)\n",
    "criterion = nn.CrossEntropyLoss()\n",
    "optimizer = optim.Adam(model.parameters(), lr=0.001)\n",
    "\n",
    "num_epochs = 10"
   ]
  },
  {
   "cell_type": "code",
   "execution_count": 37,
   "id": "c9722009",
   "metadata": {},
   "outputs": [
    {
     "ename": "NameError",
     "evalue": "name 'num_epochs' is not defined",
     "output_type": "error",
     "traceback": [
      "\u001b[0;31m---------------------------------------------------------------------------\u001b[0m",
      "\u001b[0;31mNameError\u001b[0m                                 Traceback (most recent call last)",
      "\u001b[0;32m/var/folders/g2/xsqhm_qs6032bj0vbh3crz7r0000gn/T/ipykernel_66760/3774217098.py\u001b[0m in \u001b[0;36m<module>\u001b[0;34m\u001b[0m\n\u001b[1;32m      1\u001b[0m \u001b[0;31m# Training loop\u001b[0m\u001b[0;34m\u001b[0m\u001b[0;34m\u001b[0m\u001b[0m\n\u001b[0;32m----> 2\u001b[0;31m \u001b[0;32mfor\u001b[0m \u001b[0mepoch\u001b[0m \u001b[0;32min\u001b[0m \u001b[0mrange\u001b[0m\u001b[0;34m(\u001b[0m\u001b[0mnum_epochs\u001b[0m\u001b[0;34m)\u001b[0m\u001b[0;34m:\u001b[0m\u001b[0;34m\u001b[0m\u001b[0;34m\u001b[0m\u001b[0m\n\u001b[0m\u001b[1;32m      3\u001b[0m     \u001b[0mmodel\u001b[0m\u001b[0;34m.\u001b[0m\u001b[0mtrain\u001b[0m\u001b[0;34m(\u001b[0m\u001b[0;34m)\u001b[0m  \u001b[0;31m# Set the model to training mode\u001b[0m\u001b[0;34m\u001b[0m\u001b[0;34m\u001b[0m\u001b[0m\n\u001b[1;32m      4\u001b[0m     \u001b[0mtotal_loss\u001b[0m \u001b[0;34m=\u001b[0m \u001b[0;36m0\u001b[0m\u001b[0;34m\u001b[0m\u001b[0;34m\u001b[0m\u001b[0m\n\u001b[1;32m      5\u001b[0m     \u001b[0;32mfor\u001b[0m \u001b[0mbatch\u001b[0m\u001b[0;34m,\u001b[0m \u001b[0mlabels\u001b[0m \u001b[0;32min\u001b[0m \u001b[0mdataloader\u001b[0m\u001b[0;34m:\u001b[0m\u001b[0;34m\u001b[0m\u001b[0;34m\u001b[0m\u001b[0m\n",
      "\u001b[0;31mNameError\u001b[0m: name 'num_epochs' is not defined"
     ]
    }
   ],
   "source": [
    "# Training loop\n",
    "for epoch in range(num_epochs):\n",
    "    model.train()  # Set the model to training mode\n",
    "    total_loss = 0\n",
    "    for batch, labels in dataloader:\n",
    "        optimizer.zero_grad()  # Zero the gradients\n",
    "        output = model(batch.T)  # Transpose batch for the transformer input\n",
    "        loss = criterion(output, labels)\n",
    "        loss.backward()  # Backpropagation\n",
    "        optimizer.step()  # Update weights\n",
    "        total_loss += loss.item()\n",
    "    \n",
    "    print(f'Epoch {epoch + 1}/{num_epochs}, Loss: {total_loss / len(dataloader)}')"
   ]
  },
  {
   "cell_type": "code",
   "execution_count": 33,
   "id": "70bda42e",
   "metadata": {},
   "outputs": [
    {
     "data": {
      "text/plain": [
       "[tensor([[0., 1., 0.,  ..., 0., 0., 0.],\n",
       "         [0., 0., 0.,  ..., 0., 0., 0.],\n",
       "         [0., 1., 0.,  ..., 0., 0., 1.],\n",
       "         ...,\n",
       "         [0., 0., 0.,  ..., 0., 0., 0.],\n",
       "         [0., 0., 0.,  ..., 0., 0., 0.],\n",
       "         [0., 0., 0.,  ..., 0., 0., 0.]]),\n",
       " tensor([1, 1, 1, 1, 0, 0, 0, 0, 0, 0, 0, 1, 0, 0, 1, 1, 0, 1])]"
      ]
     },
     "execution_count": 33,
     "metadata": {},
     "output_type": "execute_result"
    }
   ],
   "source": [
    "batch"
   ]
  },
  {
   "cell_type": "code",
   "execution_count": 34,
   "id": "ab5ccfc7",
   "metadata": {},
   "outputs": [],
   "source": [
    "x = batch[0]"
   ]
  },
  {
   "cell_type": "code",
   "execution_count": 35,
   "id": "969fe452",
   "metadata": {},
   "outputs": [
    {
     "data": {
      "text/plain": [
       "tensor([[0., 1., 0.,  ..., 0., 0., 0.],\n",
       "        [0., 0., 0.,  ..., 0., 0., 0.],\n",
       "        [0., 1., 0.,  ..., 0., 0., 1.],\n",
       "        ...,\n",
       "        [0., 0., 0.,  ..., 0., 0., 0.],\n",
       "        [0., 0., 0.,  ..., 0., 0., 0.],\n",
       "        [0., 0., 0.,  ..., 0., 0., 0.]])"
      ]
     },
     "execution_count": 35,
     "metadata": {},
     "output_type": "execute_result"
    }
   ],
   "source": [
    "x"
   ]
  },
  {
   "cell_type": "code",
   "execution_count": 36,
   "id": "0e94414b",
   "metadata": {},
   "outputs": [
    {
     "name": "stdout",
     "output_type": "stream",
     "text": [
      "tensor(21.)\n",
      "tensor(20.)\n",
      "tensor(19.)\n",
      "tensor(32.)\n",
      "tensor(7.)\n",
      "tensor(15.)\n",
      "tensor(12.)\n",
      "tensor(6.)\n",
      "tensor(14.)\n",
      "tensor(9.)\n",
      "tensor(12.)\n",
      "tensor(23.)\n",
      "tensor(11.)\n",
      "tensor(13.)\n",
      "tensor(22.)\n",
      "tensor(27.)\n",
      "tensor(10.)\n",
      "tensor(21.)\n"
     ]
    }
   ],
   "source": [
    "for i in range(x.shape[0]):\n",
    "    print(sum(x[i]))"
   ]
  },
  {
   "cell_type": "code",
   "execution_count": 15,
   "id": "6ebcb8e9",
   "metadata": {},
   "outputs": [
    {
     "data": {
      "text/plain": [
       "18"
      ]
     },
     "execution_count": 15,
     "metadata": {},
     "output_type": "execute_result"
    }
   ],
   "source": [
    "x.shape[0]"
   ]
  },
  {
   "cell_type": "code",
   "execution_count": null,
   "id": "54b90a52",
   "metadata": {},
   "outputs": [],
   "source": []
  }
 ],
 "metadata": {
  "kernelspec": {
   "display_name": "Python 3 (ipykernel)",
   "language": "python",
   "name": "python3"
  },
  "language_info": {
   "codemirror_mode": {
    "name": "ipython",
    "version": 3
   },
   "file_extension": ".py",
   "mimetype": "text/x-python",
   "name": "python",
   "nbconvert_exporter": "python",
   "pygments_lexer": "ipython3",
   "version": "3.10.11"
  }
 },
 "nbformat": 4,
 "nbformat_minor": 5
}
